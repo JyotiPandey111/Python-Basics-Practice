{
 "cells": [
  {
   "cell_type": "markdown",
   "id": "194afed0",
   "metadata": {},
   "source": [
    "# Data Types and In-Built Data Structures in Python\n",
    "\n",
    "- Data types are the kind of values on the basis of which the further operations is going to perform on that particular data.\n",
    "- type() function is used to determine the type of the value or data.\n",
    "\n",
    "  1. **Numeric Type**\n",
    "     - Integer\n",
    "     - Float\n",
    "     - Complex Numbers\n",
    "     \n",
    "  2. **Sequence Type**\n",
    "      - String\n",
    "      - List\n",
    "      - Tuples\n",
    "  3. **Boolean**\n",
    "  4. **Set**\n",
    "  5. **Dictionary**\n",
    "  \n",
    "  \n",
    "  \n",
    "  \n",
    "- LinkedIn: https://www.linkedin.com/in/km-jyoti-pandey/\n",
    "- Github: https://github.com/JyotiPandey111"
   ]
  },
  {
   "cell_type": "markdown",
   "id": "a68ef258",
   "metadata": {},
   "source": [
    "# 1. Numeric Type\n",
    "## 1.1 Integer Numeric Type"
   ]
  },
  {
   "cell_type": "code",
   "execution_count": 49,
   "id": "4715aea4-b234-4229-945f-434880171044",
   "metadata": {},
   "outputs": [
    {
     "name": "stdout",
     "output_type": "stream",
     "text": [
      "12345 belongs to  <class 'int'>\n",
      "-12345 belongs to  <class 'int'>\n",
      "0 belongs to  <class 'int'>\n"
     ]
    }
   ],
   "source": [
    "a = 12345 #positive whole number\n",
    "b = -12345 #negative whole number\n",
    "c = 0 #0 is also integer\n",
    "\n",
    "print(\"12345 belongs to \",type(a))\n",
    "print(\"-12345 belongs to \",type(b))\n",
    "print(\"0 belongs to \",type(c))"
   ]
  },
  {
   "cell_type": "code",
   "execution_count": 69,
   "id": "8858cf34",
   "metadata": {},
   "outputs": [
    {
     "name": "stdout",
     "output_type": "stream",
     "text": [
      "Integer is non-iterable and unordered because 'int' object is not subscriptable\n"
     ]
    }
   ],
   "source": [
    "try:\n",
    "    a[1] \n",
    "except Exception as e:\n",
    "    print(\"Integer is non-iterable and unordered because\", e)"
   ]
  },
  {
   "cell_type": "code",
   "execution_count": 70,
   "id": "fd7449a8",
   "metadata": {},
   "outputs": [
    {
     "name": "stdout",
     "output_type": "stream",
     "text": [
      "Integer data type is immutable because 'int' object does not support item assignment\n"
     ]
    }
   ],
   "source": [
    "try:\n",
    "    a[1]=2 \n",
    "except Exception as e:\n",
    "    print(\"Integer data type is immutable because\", e)"
   ]
  },
  {
   "cell_type": "markdown",
   "id": "b74c8da6",
   "metadata": {},
   "source": [
    "## 1.2 Float Numeric Type"
   ]
  },
  {
   "cell_type": "code",
   "execution_count": 50,
   "id": "585ecfdc-db2c-48f2-b1a2-1d0973864993",
   "metadata": {},
   "outputs": [
    {
     "name": "stdout",
     "output_type": "stream",
     "text": [
      "12345.1 belongs to  <class 'float'>\n",
      "-12345.1 belongs to  <class 'float'>\n",
      "0.0 belongs to  <class 'float'>\n"
     ]
    }
   ],
   "source": [
    "a = 12345.1 #positive floating point number\n",
    "b = -12345.1 #negative floating point number\n",
    "c = 0.0 \n",
    "\n",
    "print(\"12345.1 belongs to \",type(a))\n",
    "print(\"-12345.1 belongs to \",type(b))\n",
    "print(\"0.0 belongs to \",type(c))"
   ]
  },
  {
   "cell_type": "code",
   "execution_count": 73,
   "id": "8fff3ed6",
   "metadata": {},
   "outputs": [
    {
     "name": "stdout",
     "output_type": "stream",
     "text": [
      "Float is non-iterable and unordered because  'float' object is not subscriptable\n"
     ]
    }
   ],
   "source": [
    "try:\n",
    "    a[1]  #non-iterable and unordered.\n",
    "except Exception as e:\n",
    "    print(\"Float is non-iterable and unordered because \", e)"
   ]
  },
  {
   "cell_type": "code",
   "execution_count": 74,
   "id": "ba8c0cb6-2a5f-41a0-bd19-83069a6f248e",
   "metadata": {},
   "outputs": [
    {
     "name": "stdout",
     "output_type": "stream",
     "text": [
      "Float data type is immutable because 'float' object does not support item assignment\n"
     ]
    }
   ],
   "source": [
    "try:\n",
    "    a[1]=2 \n",
    "except Exception as e:\n",
    "    print(\"Float data type is immutable because\", e)"
   ]
  },
  {
   "cell_type": "markdown",
   "id": "68b3bc0b",
   "metadata": {},
   "source": [
    "## 1.3 Complex Number"
   ]
  },
  {
   "cell_type": "code",
   "execution_count": 48,
   "id": "47943aad-1cb7-4654-84a4-2885037cd428",
   "metadata": {},
   "outputs": [
    {
     "name": "stdout",
     "output_type": "stream",
     "text": [
      "1 + 1j belongs to  <class 'complex'>\n",
      "-2 - 2j belongs to  <class 'complex'>\n",
      "-6j belongs to  <class 'complex'>\n"
     ]
    }
   ],
   "source": [
    "a = 1 + 1j\n",
    "b = 2 - 2j \n",
    "c = -6j\n",
    "\n",
    "print(\"1 + 1j belongs to \",type(a))\n",
    "print(\"-2 - 2j belongs to \",type(b))\n",
    "print(\"-6j belongs to \",type(c))"
   ]
  },
  {
   "cell_type": "code",
   "execution_count": 11,
   "id": "e22ca827",
   "metadata": {},
   "outputs": [
    {
     "name": "stdout",
     "output_type": "stream",
     "text": [
      "The Real part of complex number 1 + 1j is 1.0\n",
      "The Real part of complex number -2 -2j is 2.0\n",
      "The Real part of complex number -6j is -0.0\n"
     ]
    }
   ],
   "source": [
    "print(\"The Real part of complex number 1 + 1j is\", a.real)\n",
    "print(\"The Real part of complex number -2 -2j is\", b.real)\n",
    "print(\"The Real part of complex number -6j is\", c.real)"
   ]
  },
  {
   "cell_type": "code",
   "execution_count": 12,
   "id": "496da405",
   "metadata": {},
   "outputs": [
    {
     "name": "stdout",
     "output_type": "stream",
     "text": [
      "The Imaginary part of complex number 1 + 1j is 1.0\n",
      "The Imaginary part of complex number -2 -2j is -2.0\n",
      "The Imaginary part of complex number -6j is -6.0\n"
     ]
    }
   ],
   "source": [
    "print(\"The Imaginary part of complex number 1 + 1j is\", a.imag)\n",
    "print(\"The Imaginary part of complex number -2 -2j is\", b.imag)\n",
    "print(\"The Imaginary part of complex number -6j is\", c.imag)"
   ]
  },
  {
   "cell_type": "code",
   "execution_count": 13,
   "id": "c63b56d7",
   "metadata": {},
   "outputs": [
    {
     "name": "stdout",
     "output_type": "stream",
     "text": [
      "The Conjugate of complex number 1 + 1j is (1-1j)\n",
      "The Conjugate of complex number -2 -2j is (2+2j)\n",
      "The Conjugate of complex number -6j is (-0+6j)\n"
     ]
    }
   ],
   "source": [
    "print(\"The Conjugate of complex number 1 + 1j is\", a.conjugate()) \n",
    "print(\"The Conjugate of complex number -2 -2j is\", b.conjugate())\n",
    "print(\"The Conjugate of complex number -6j is\", c.conjugate())\n",
    " # NOTE: Do not forget Parentheses as Conjugate is function builtin_function_or_method"
   ]
  },
  {
   "cell_type": "markdown",
   "id": "cd2f2378",
   "metadata": {},
   "source": [
    "# 2. Sequencial Type\n",
    "## 2.1 String\n",
    "- In Python, Strings are arrays of bytes representing Unicode characters. A string is a collection of one or more characters put in a single quote, double-quote or triple quote. "
   ]
  },
  {
   "cell_type": "code",
   "execution_count": 52,
   "id": "29f54012-b906-440d-9063-d09095070c57",
   "metadata": {},
   "outputs": [
    {
     "name": "stdout",
     "output_type": "stream",
     "text": [
      "'It's an example of string data type' belongs to  <class 'str'>\n",
      "'12345 ^&%& alphabets' belongs to  <class 'str'>\n"
     ]
    }
   ],
   "source": [
    "a = \"It's an example of string data type\" # double quote\n",
    "b = '12345 ^&%& alphabets' # single quote\n",
    "\n",
    "print(\"'It's an example of string data type' belongs to \",type(a))\n",
    "print(\"'12345 ^&%& alphabets' belongs to \",type(b))"
   ]
  },
  {
   "cell_type": "code",
   "execution_count": 16,
   "id": "c21125db",
   "metadata": {},
   "outputs": [
    {
     "name": "stdout",
     "output_type": "stream",
     "text": [
      "String data type is iterable and ordered.\n",
      "\n",
      "The first element of the string is  I\n",
      "The second element of the string is  t\n"
     ]
    }
   ],
   "source": [
    "print(\"String data type is iterable and ordered.\\n\")\n",
    "print(\"The first element of the string is \", a[0]) # indexing starts from 0 and goes on with increment of 1.\n",
    "print(\"The second element of the string is \", a[1])"
   ]
  },
  {
   "cell_type": "code",
   "execution_count": 2,
   "id": "8edfe40c-e34f-4f8f-9405-d8609a8c0042",
   "metadata": {},
   "outputs": [
    {
     "name": "stdout",
     "output_type": "stream",
     "text": [
      "Slice the 'string data type' from the string:  string data type\n",
      "Slice the 'string data type' from the string with jump of 2:  srn aatp\n",
      "Reverse the string:   epyt atad gnirts fo elpmaxe na s'tI\n"
     ]
    }
   ],
   "source": [
    "print(\"Slice the 'string data type' from the string: \", a[19:35])\n",
    "print(\"Slice the 'string data type' from the string with jump of 2: \", a[19:35:2])\n",
    "print(\"Reverse the string:  \", a[::-1])"
   ]
  },
  {
   "cell_type": "code",
   "execution_count": 61,
   "id": "34d82076",
   "metadata": {},
   "outputs": [
    {
     "name": "stdout",
     "output_type": "stream",
     "text": [
      "String data type is immutable.\n",
      "\n",
      "It's an example of string data type\n",
      "'str' object does not support item assignment\n"
     ]
    }
   ],
   "source": [
    "print(\"String data type is immutable.\\n\")\n",
    "print(a)\n",
    "try:\n",
    "    a[0] = 'i'\n",
    "except Exception as e:\n",
    "    print(e)"
   ]
  },
  {
   "cell_type": "markdown",
   "id": "970bbeab",
   "metadata": {},
   "source": [
    "### Operations on string datatype\n",
    "\n",
    "- string_variable [dot] then [pressTab] => to get all the operations of string.  \n",
    "    - a.[Tab]"
   ]
  },
  {
   "cell_type": "code",
   "execution_count": 18,
   "id": "5bd57b9b",
   "metadata": {},
   "outputs": [
    {
     "name": "stdout",
     "output_type": "stream",
     "text": [
      "Lets perform string manipulation operations on:  It's an example of string data type\n",
      "\n",
      "\n",
      "1. capitalize() make the first character have upper case and the rest lowercase.: It's an example of string data type\n",
      "2. lower() return a copy of the string converted to lowercase.For above string it is:  it's an example of string data type\n",
      "3. islower() return True if the string is a lowercase string, False otherwise.For above string it is:  False\n",
      "4. upper() return a copy of the string converted to uppercase. For above string it is: IT'S AN EXAMPLE OF STRING DATA TYPE\n",
      "5. isupper() return True if the string is an uppercase string, False otherwise. For above string it is:  False\n",
      "6. swapcase() convert uppercase characters to lowercase and lowercase characters to uppercase. For above string it is: iT'S AN EXAMPLE OF STRING DATA TYPE\n",
      "7. title() return a version of the string where each word is titlecased. For above string it is: It'S An Example Of String Data Type\n",
      "8. istitle() return True if the string is a title-cased string, False otherwise.  For above string it is: False\n"
     ]
    }
   ],
   "source": [
    "print(\"Lets perform string manipulation operations on: \",a)\n",
    "print(\"\\n\")\n",
    "print(\"1. capitalize() make the first character have upper case and the rest lowercase.:\", a.capitalize())\n",
    "print(\"2. lower() return a copy of the string converted to lowercase.For above string it is: \",a.lower())\n",
    "print(\"3. islower() return True if the string is a lowercase string, False otherwise.For above string it is: \",a.islower())\n",
    "print(\"4. upper() return a copy of the string converted to uppercase. For above string it is:\", a.upper())\n",
    "print(\"5. isupper() return True if the string is an uppercase string, False otherwise. For above string it is: \", a.isupper())\n",
    "print(\"6. swapcase() convert uppercase characters to lowercase and lowercase characters to uppercase. For above string it is:\",a.swapcase())\n",
    "print(\"7. title() return a version of the string where each word is titlecased. For above string it is:\", a.title())\n",
    "print(\"8. istitle() return True if the string is a title-cased string, False otherwise.  For above string it is:\",a.istitle())"
   ]
  },
  {
   "cell_type": "code",
   "execution_count": 19,
   "id": "1e55ae96",
   "metadata": {},
   "outputs": [
    {
     "name": "stdout",
     "output_type": "stream",
     "text": [
      "Lets perform string manipulation operations on:  12345 ^&%& alphabets\n",
      "\n",
      "\n",
      "1. isalnum return True if the string is an alpha-numeric string, False otherwise.For above string it is: False\n",
      "2. isalpha return True if the string is an alphabetic string, False otherwise. for above string is is:  False\n",
      "3. isdecimal return True if the string is a decimal string, False otherwise. For above string is is:   False\n",
      "4. isdigit return True if the string is a digit string, False otherwise.For above string is is:  False\n",
      "5. isnumeric return True if the string is a numeric string, False otherwise. For above string it is:  False\n"
     ]
    }
   ],
   "source": [
    "print(\"Lets perform string manipulation operations on: \",b)\n",
    "print(\"\\n\")\n",
    "print(\"1. isalnum return True if the string is an alpha-numeric string, False otherwise.For above string it is:\", a.isalnum()) \n",
    "print(\"2. isalpha return True if the string is an alphabetic string, False otherwise. for above string is is: \", a.isalpha())\n",
    "print(\"3. isdecimal return True if the string is a decimal string, False otherwise. For above string is is:  \",a.isdecimal())\n",
    "print(\"4. isdigit return True if the string is a digit string, False otherwise.For above string is is: \",a.isdigit())\n",
    "print(\"5. isnumeric return True if the string is a numeric string, False otherwise. For above string it is: \", a.isnumeric())"
   ]
  },
  {
   "cell_type": "code",
   "execution_count": 60,
   "id": "4299422a-66fd-44c9-b2e7-6975acca535f",
   "metadata": {},
   "outputs": [
    {
     "name": "stdout",
     "output_type": "stream",
     "text": [
      "Lets perform string manipulation operations on:  It's an example of string data type\n",
      "\n",
      "\n",
      "1. count() return the number of non-overlapping occurrences of sub-string in string such that sub-string is contained within S[start:end]. 1\n",
      "2. startswith() return True if string starts with the specified prefix, False otherwise. True\n",
      "3. endswith() return True if string ends with the specified suffix, False otherwise. True\n",
      "4. find() return the lowest index in string where substring is found,such that sub-string is contained within S[start:end]. 26\n",
      "find() return -1 on failure. -1\n",
      "5. index() return the lowest index in string where substring is found,such that sub-string is contained within S[start:end]. 26\n",
      "substring not found\n"
     ]
    }
   ],
   "source": [
    "print(\"Lets perform string manipulation operations on: \",a)\n",
    "print(\"\\n\")\n",
    "print(\"1. count() return the number of non-overlapping occurrences of sub-string in string such that sub-string is contained within S[start:end].\",a.count(\"data\",8,35))\n",
    "# how many times sub-string \"data\" occures in string \"example of string data type\" as we have choosen [8,35], index 8 as start and 35 as end. \n",
    "\n",
    "print(\"2. startswith() return True if string starts with the specified prefix, False otherwise.\",a.startswith(\"It\",0,15))\n",
    "# checks for the \"It\" string preffix in string from index o to 5: \"It's an example\"\n",
    "\n",
    "print(\"3. endswith() return True if string ends with the specified suffix, False otherwise.\", a.endswith(\"data\",6,30))\n",
    "# checks for the \"data\" string suffix in string from index 6 to 30: \"example of string data\"\n",
    "\n",
    "print(\"4. find() return the lowest index in string where substring is found,such that sub-string is contained within S[start:end].\", a.find(\"data\",6,30))\n",
    "# checks for the \"data\" sub-string in string from index 6 to 30: \"example of string data\" and returns the lowest index of the sub-string element i.e \"d\" 26.\n",
    "# Return -1 on failure.\n",
    "print(\"find() return -1 on failure.\", a.find(\"not\",6,30))\n",
    "\n",
    "print(\"5. index() return the lowest index in string where substring is found,such that sub-string is contained within S[start:end].\",a.index(\"data\",6,30))\n",
    "# checks for the \"data\" sub-string in string from index 6 to 30: \"example of string data\" and returns the lowest index of the sub-string element i.e \"d\" 26.\n",
    "# Raises ValueError when the substring is not found.\n",
    "\n",
    "try:\n",
    "    print(\"find() raises ValueError when the substring is not found.\", a.index(\"not\",6,30))\n",
    "except Exception as e :\n",
    "    print(e)\n",
    "    \n",
    "# find() vs index(): \n",
    "#The main difference is that Python find() produces -1 as output if it is unable to find the substring, whereas index() throws a ValueError exception.\n",
    "\n",
    "\n"
   ]
  },
  {
   "cell_type": "code",
   "execution_count": 87,
   "id": "a43f1d3d-2e7c-4496-94ef-72f99af34f8f",
   "metadata": {},
   "outputs": [
    {
     "name": "stdout",
     "output_type": "stream",
     "text": [
      "Lets perform string manipulation operations on:  12345 ^&%& alphabets\n",
      "\n",
      "\n",
      "1. isssapce() return True if the string is a whitespace string, False otherwise. For the above string it is:  False\n",
      "2. strip() return a copy of the string with leading and trailing whitespace removed. For the above string it is:  12345 ^&%& alphabets\n",
      "3. lstrip() return a copy of the string with leading whitespace removed. For above string it is:  12345 ^&%& alphabets\n",
      "4. splitlines return a list of the lines in the string, breaking at line boundaries. ['12345 ^&%& alphabets']\n",
      "5. split() return a list of the words in the string, using seperator as the delimiter string. For above string it is:  ['12345', '^&%&', 'alphabets']\n"
     ]
    }
   ],
   "source": [
    "print(\"Lets perform string manipulation operations on: \",b)\n",
    "print(\"\\n\")\n",
    "print(\"1. isssapce() return True if the string is a whitespace string, False otherwise. For the above string it is: \", b.isspace())\n",
    "#A string is whitespace if all characters in the string are whitespace and there is at least one character in the string.\n",
    "\n",
    "print(\"2. strip() return a copy of the string with leading and trailing whitespace removed. For the above string it is: \", b.strip())\n",
    "\n",
    "print(\"3. lstrip() return a copy of the string with leading whitespace removed. For above string it is: \", b.lstrip())\n",
    "\n",
    "print(\"4. splitlines return a list of the lines in the string, breaking at line boundaries.\", b.splitlines(keepends=False))\n",
    "# Line breaks are not included in the resulting list unless keepends is given and true.\n",
    "\n",
    "print(\"5. split() return a list of the words in the string, using seperator as the delimiter string. For above string it is: \", b.split(sep=None, maxsplit=-1))\n",
    "# sep: The delimiter according which to split the string. None (the default value) means split according to any whitespace, and discard empty strings from the result.\n",
    "# maxsplit: Maximum number of splits to do.-1 (the default value) means no limit."
   ]
  },
  {
   "cell_type": "code",
   "execution_count": 92,
   "id": "26a5d675",
   "metadata": {},
   "outputs": [
    {
     "name": "stdout",
     "output_type": "stream",
     "text": [
      "Lets perform string manipulation operations on:  12345 ^&%& alphabets\n",
      "\n",
      "\n",
      "replace() return a copy with all occurrences of substring old replaced by new. 54321 ^&%& alphabets\n"
     ]
    }
   ],
   "source": [
    "print(\"Lets perform string manipulation operations on: \",b)\n",
    "print(\"\\n\")\n",
    "print(\"replace() return a copy with all occurrences of substring old replaced by new.\", b.replace(\"12345\",\"54321\",-1))\n",
    "# count: Maximum number of occurrences to replace. -1 (the default value) means replace all occurrences. \n",
    "#If the optional argument count is given, only the first count occurrences are replaced."
   ]
  },
  {
   "cell_type": "code",
   "execution_count": 53,
   "id": "e4d87d80",
   "metadata": {},
   "outputs": [
    {
     "name": "stdout",
     "output_type": "stream",
     "text": [
      "join() concatenate any number of strings:   It's an example of string data type____12345 ^&%& alphabets\n"
     ]
    }
   ],
   "source": [
    "print(\"join() concatenate any number of strings:  \", \"____\".join([a,b]))\n",
    "# Signature: a.join(iterable, /)\n",
    "#The string whose method is called is inserted in between each given string. The result is returned as a new string."
   ]
  },
  {
   "cell_type": "markdown",
   "id": "8dfdb7f0-658c-4c7b-849c-71fb92e9bfe9",
   "metadata": {},
   "source": [
    "## 2.2 List\n",
    "- Lists in Python can be created by just placing the sequence inside the square brackets [].\n",
    "- Elements in list need not to be of same datatype."
   ]
  },
  {
   "cell_type": "code",
   "execution_count": 45,
   "id": "c8a1722d-afc3-4133-b10d-4e3cfd8340e3",
   "metadata": {},
   "outputs": [
    {
     "name": "stdout",
     "output_type": "stream",
     "text": [
      "['one',1,1.2,1+2j,[3,4,'five']] belongs to  <class 'list'>\n"
     ]
    }
   ],
   "source": [
    "a = [\"one\",1,1.2,1+2j,[3,4,\"five\"]]\n",
    "b = [\"b1\", \"b2\", 3, \"b3\"]\n",
    "\n",
    "print(\"['one',1,1.2,1+2j,[3,4,'five']] belongs to \",type(a))"
   ]
  },
  {
   "cell_type": "code",
   "execution_count": 15,
   "id": "cbdb44d0-ed50-439e-aeaf-0305b3acb5da",
   "metadata": {},
   "outputs": [
    {
     "name": "stdout",
     "output_type": "stream",
     "text": [
      "List data type is iterable and ordered.\n",
      "\n",
      "1. The first element of the list is  one\n",
      "2. The second element of the list is  1\n",
      "3. The first element of the nested list in list 'a' is  3\n",
      "4. Reverse the list:   [[3, 4, 'five'], (1+2j), 1.2, 1, 'one']\n",
      "5. Length of the list:   5\n",
      "6. Slice the 'list' from the list:  ['one', 1, 1.2]\n",
      "7. Slice the 'list' from the list with jump of 2:  ['one', 1.2]\n",
      "8. Slice the 'list' from the list with jump of -2:  [(1+2j), 1]\n"
     ]
    }
   ],
   "source": [
    "print(\"List data type is iterable and ordered.\\n\")\n",
    "print(\"1. The first element of the list is \", a[0]) # indexing starts from 0 and goes on with increment of 1.\n",
    "print(\"2. The second element of the list is \", a[1])\n",
    "print(\"3. The first element of the nested list in list 'a' is \", a[4][0])\n",
    "print(\"4. Reverse the list:  \", a[::-1])\n",
    "print(\"5. Length of the list:  \", len(a))\n",
    "print(\"6. Slice the 'list' from the list: \", a[0:3])\n",
    "print(\"7. Slice the 'list' from the list with jump of 2: \", a[0:4:2])\n",
    "print(\"8. Slice the 'list' from the list with jump of -2: \", a[3:0:-2]) #NOTE: direction from higher index to lower index when using negative jump."
   ]
  },
  {
   "cell_type": "code",
   "execution_count": 47,
   "id": "be1541ba-ddfe-4884-b663-9faf0a1aa044",
   "metadata": {},
   "outputs": [
    {
     "name": "stdout",
     "output_type": "stream",
     "text": [
      "List data type is mutable.\n",
      "\n",
      "List was:  ['one', 1, 1.2, (1+2j), [3, 4, 'five']]\n",
      "After element assignment List becomes:   ['ONE', 1, 1.2, (1+2j), [3, 4, 'five']]\n"
     ]
    }
   ],
   "source": [
    "print(\"List data type is mutable.\\n\")\n",
    "print(\"List was: \",a)\n",
    "a[0] = 'ONE'\n",
    "print(\"After element assignment List becomes:  \", a)"
   ]
  },
  {
   "cell_type": "markdown",
   "id": "d3762bd4-3ce5-4311-96a9-d406b793df3a",
   "metadata": {},
   "source": [
    "## Operations of List: "
   ]
  },
  {
   "cell_type": "code",
   "execution_count": 26,
   "id": "4aea2b2b-5399-4567-9f48-ab50e952d24f",
   "metadata": {},
   "outputs": [
    {
     "name": "stdout",
     "output_type": "stream",
     "text": [
      "First list, a =  ['one', 1, 1.2, (1+2j), [3, 4, 'five']]\n",
      "Second list, b =  ['b1', 'b2', 3, 'b3']\n",
      "Lets perform list manipulation operations on these list.\n",
      "\n",
      "\n",
      "1. append() is a builtin_function_or_method which append object to the end of the list. None\n",
      "List become:  ['one', 1, 1.2, (1+2j), [3, 4, 'five'], 'appended_element']\n",
      "\n",
      "\n",
      "2. extend() extend list by appending elements from the iterable. None\n",
      "List become:  ['one', 1, 1.2, (1+2j), [3, 4, 'five'], 'appended_element', 'e', 'x', 't', 'e', 'n', 'd']\n",
      "\n",
      "\n",
      "3. insert() insert object before index. None\n",
      "List become:  ['one', 1, 1.2, 'inserted_element', (1+2j), [3, 4, 'five'], 'appended_element', 'e', 'x', 't', 'e', 'n', 'd']\n",
      "\n",
      "\n",
      "4. copy() is a builtin_function_or_method which return a shallow copy of the list. ['one', 1, 1.2, 'inserted_element', (1+2j), [3, 4, 'five'], 'appended_element', 'e', 'x', 't', 'e', 'n', 'd']\n",
      "\n",
      "\n",
      "5. count() is a builtin_function_or_method which return number of occurrences of value. The count of elemnt 'one' in list is:  1\n",
      "\n",
      "\n",
      "6. index() return first index of value from start to end. Index of element '1.2' in the list is:  2\n",
      "\n",
      "\n",
      "List was:  ['one', 1, 1.2, 'inserted_element', (1+2j), [3, 4, 'five'], 'appended_element', 'e', 'x', 't', 'e', 'n', 'd']\n",
      "7. pop() remove and return item at index (default last). d\n",
      "List become after popping last elemnt:  ['one', 1, 1.2, 'inserted_element', (1+2j), [3, 4, 'five'], 'appended_element', 'e', 'x', 't', 'e', 'n']\n",
      "\n",
      "\n",
      "List was:  ['one', 1, 1.2, 'inserted_element', (1+2j), [3, 4, 'five'], 'appended_element', 'e', 'x', 't', 'e', 'n']\n",
      "8. remove() remove first occurrence of value. None\n",
      "List become after removing 'one':  [1, 1.2, 'inserted_element', (1+2j), [3, 4, 'five'], 'appended_element', 'e', 'x', 't', 'e', 'n']\n",
      "\n",
      "\n",
      "List was:  [1, 1.2, 'inserted_element', (1+2j), [3, 4, 'five'], 'appended_element', 'e', 'x', 't', 'e', 'n']\n",
      "9. reverse() reverse *IN PLACE*. None\n",
      "List become:  ['n', 'e', 't', 'x', 'e', 'appended_element', [3, 4, 'five'], (1+2j), 'inserted_element', 1.2, 1]\n",
      "\n",
      "\n",
      "List was:  ['n', 'e', 't', 'x', 'e', 'appended_element', [3, 4, 'five'], (1+2j), 'inserted_element', 1.2, 1]\n",
      "10. clear() remove all items from list. None\n",
      "List become after clear():  []\n"
     ]
    }
   ],
   "source": [
    "a = [\"one\",1,1.2,1+2j,[3,4,\"five\"]]\n",
    "b = [\"b1\", \"b2\", 3, \"b3\"]\n",
    "print(\"First list, a = \", a)\n",
    "print(\"Second list, b = \", b)\n",
    "print(\"Lets perform list manipulation operations on these list.\")\n",
    "print(\"\\n\")\n",
    "\n",
    "print(\"1. append() is a builtin_function_or_method which append object to the end of the list.\",a.append(\"appended_element\"))\n",
    "print(\"List become: \", a)\n",
    "print(\"\\n\")\n",
    "\n",
    "print(\"2. extend() extend list by appending elements from the iterable.\",a.extend(\"extend\"))# one argument only\n",
    "print(\"List become: \", a)\n",
    "print(\"\\n\")\n",
    "\n",
    "print(\"3. insert() insert object before index.\",a.insert(3,\"inserted_element\"))\n",
    "print(\"List become: \", a)\n",
    "print(\"\\n\")\n",
    "\n",
    "print(\"4. copy() is a builtin_function_or_method which return a shallow copy of the list.\",a.copy())\n",
    "print(\"\\n\")\n",
    "print(\"5. count() is a builtin_function_or_method which return number of occurrences of value. The count of elemnt 'one' in list is: \",a.count(\"one\"))\n",
    "print(\"\\n\")\n",
    "\n",
    "print(\"6. index() return first index of value from start to end. Index of element '1.2' in the list is: \",a.index(1.2,0,3))\n",
    "#Raises ValueError if the value is not present.\n",
    "print(\"\\n\")\n",
    "\n",
    "print(\"List was: \", a)\n",
    "print(\"7. pop() remove and return item at index (default last).\",a.pop())\n",
    "# Raises IndexError if list is empty or index is out of range.\n",
    "print(\"List become after popping last elemnt: \", a)\n",
    "print(\"\\n\")\n",
    "\n",
    "print(\"List was: \", a)\n",
    "print(\"8. remove() remove first occurrence of value.\",a.remove(\"one\"))\n",
    "# Raises ValueError if the value is not present.\n",
    "print(\"List become after removing 'one': \", a)\n",
    "\n",
    "print(\"\\n\")\n",
    "print(\"List was: \", a)\n",
    "print(\"9. reverse() reverse *IN PLACE*.\",a.reverse())\n",
    "print(\"List become: \", a)\n",
    "\n",
    "print(\"\\n\")\n",
    "print(\"List was: \", a)\n",
    "print(\"10. clear() remove all items from list.\",a.clear())\n",
    "print(\"List become after clear(): \", a)"
   ]
  },
  {
   "cell_type": "code",
   "execution_count": 27,
   "id": "f1a765fd-a039-4ff5-83e1-664219e72c3d",
   "metadata": {},
   "outputs": [
    {
     "name": "stdout",
     "output_type": "stream",
     "text": [
      "1. sort() sort the list in ascending order and return None. None\n",
      "List become:  [0, 1, 2, 3, 4, 6, 7, 8, 9]\n",
      "\n",
      "\n",
      "2. sort() sort the list in decending order and return None. None\n",
      "List become:  [9, 8, 7, 6, 4, 3, 2, 1, 0]\n"
     ]
    }
   ],
   "source": [
    "a= [1,2,3,4,6,7,8,9,0]\n",
    "# for sort() need to have data elements should be of same datatype.\n",
    "print(\"1. sort() sort the list in ascending order and return None.\", a.sort(reverse=False))\n",
    "print(\"List become: \", a)\n",
    "print(\"\\n\")\n",
    "print(\"2. sort() sort the list in decending order and return None.\", a.sort(reverse=True))\n",
    "print(\"List become: \", a)"
   ]
  },
  {
   "cell_type": "markdown",
   "id": "06379507-7860-462b-938a-2edb89f70c14",
   "metadata": {},
   "source": [
    "## 2.3 Tuples\n",
    "\n",
    "- To create a tuple we will use () operators."
   ]
  },
  {
   "cell_type": "code",
   "execution_count": 28,
   "id": "0683e87f-80ae-4fda-865d-5b3980d7fd99",
   "metadata": {},
   "outputs": [
    {
     "name": "stdout",
     "output_type": "stream",
     "text": [
      "('one',1,1.2,1+2j,[3,4,'five']) is belongs to  <class 'tuple'>\n",
      "('b1', 'b2', 3, 'b3') is belongs to  <class 'tuple'>\n"
     ]
    }
   ],
   "source": [
    "a = (\"one\",1,1.2,1+2j,[3,4,\"five\"])\n",
    "b = (\"b1\", \"b2\", 3, \"b3\")\n",
    "\n",
    "print(\"('one',1,1.2,1+2j,[3,4,'five']) belongs to \",type(a))\n",
    "print(\"('b1', 'b2', 3, 'b3') belongs to \",type(b))"
   ]
  },
  {
   "cell_type": "code",
   "execution_count": 18,
   "id": "1e95e3b9-6af5-4a11-a757-7a08924ea8cb",
   "metadata": {},
   "outputs": [
    {
     "name": "stdout",
     "output_type": "stream",
     "text": [
      "Tuple data type is iterable and ordered.\n",
      "\n",
      "1. The first element of the tuple is  one\n",
      "2. The second element of the tuple is  1\n",
      "3. The first element of the nested list in tuple 'a' is  3\n",
      "4. Reverse the tuple:   ([3, 4, 'five'], (1+2j), 1.2, 1, 'one')\n",
      "5. Length of the tuple:   5\n",
      "6. Slice the 'list' from the tuple:  ('one', 1, 1.2)\n",
      "7. Slice the 'list' from the tuple with jump of 2:  ('one', 1.2)\n",
      "8. Slice the 'list data type' from the tuple with jump of -2:  ((1+2j), 1)\n"
     ]
    }
   ],
   "source": [
    "print(\"Tuple data type is iterable and ordered.\\n\")\n",
    "print(\"1. The first element of the tuple is \", a[0]) # indexing starts from 0 and goes on with increment of 1.\n",
    "print(\"2. The second element of the tuple is \", a[1])\n",
    "print(\"3. The first element of the nested list in tuple 'a' is \", a[4][0])\n",
    "print(\"4. Reverse the tuple:  \", a[::-1])\n",
    "print(\"5. Length of the tuple:  \", len(a))\n",
    "print(\"6. Slice the 'list' from the tuple: \", a[0:3])\n",
    "print(\"7. Slice the 'list' from the tuple with jump of 2: \", a[0:4:2])\n",
    "print(\"8. Slice the 'list data type' from the tuple with jump of -2: \", a[3:0:-2]) #NOTE: direction from higher index to lower index when using negative jump."
   ]
  },
  {
   "cell_type": "code",
   "execution_count": 21,
   "id": "a571112e-9787-4f1e-944d-7ad7766bd310",
   "metadata": {},
   "outputs": [
    {
     "name": "stdout",
     "output_type": "stream",
     "text": [
      "Tuple data type is immutable.\n",
      "\n",
      "Tuple was:  ('one', 1, 1.2, (1+2j), [3, 4, 'five'])\n",
      "Tuple data type is immutable because 'tuple' object does not support item assignment\n"
     ]
    }
   ],
   "source": [
    "print(\"Tuple data type is immutable.\\n\")\n",
    "print(\"Tuple was: \",a)\n",
    "try:\n",
    "    a[0] = 'ONE'\n",
    "except Exception as e:\n",
    "    print(\"Tuple data type is immutable because\",e)"
   ]
  },
  {
   "cell_type": "markdown",
   "id": "fe3ee5a2-7474-48de-a5f0-546402813529",
   "metadata": {},
   "source": [
    "## Operations on Tuples"
   ]
  },
  {
   "cell_type": "code",
   "execution_count": 32,
   "id": "37bc05ba-2d9a-4cae-8034-db4784d854dc",
   "metadata": {},
   "outputs": [
    {
     "name": "stdout",
     "output_type": "stream",
     "text": [
      "Lets perform tuple manipulation operations on: \n",
      "First tuple, a =  ('one', 1, 1.2, (1+2j), [3, 4, 'five'], 'one')\n",
      "Second tuple, b =  ('b1', 'b2', 3, 'b3')\n",
      "\n",
      "\n",
      "1. count() is an builtin_function_or_method which return number of occurrences of value. 2\n",
      "\n",
      "\n",
      "2. index() is an builtin_function_or_method which Return first index of value. Raises ValueError if the value is not present. 0\n",
      "\n",
      "\n",
      "3. Result of concatenation of the tuples:  ('one', 1, 1.2, (1+2j), [3, 4, 'five'], 'one', 'b1', 'b2', 3, 'b3')\n",
      "\n",
      "\n",
      "4. Result of nesting of tuples:  (('one', 1, 1.2, (1+2j), [3, 4, 'five'], 'one'), ('b1', 'b2', 3, 'b3'))\n",
      "\n",
      "\n",
      "First tuple, a =  ('one', 1, 1.2, (1+2j), [3, 4, 'five'], 'one')\n",
      "5. Length of tuple:  6\n"
     ]
    }
   ],
   "source": [
    "a = (\"one\",1,1.2,1+2j,[3,4,\"five\"],'one')\n",
    "b = (\"b1\", \"b2\", 3, \"b3\")\n",
    "print(\"Lets perform tuple manipulation operations on: \")\n",
    "print(\"First tuple, a = \", a)\n",
    "print(\"Second tuple, b = \", b)\n",
    "print(\"\\n\")\n",
    "print(\"1. count() is an builtin_function_or_method which return number of occurrences of value.\",a.count(\"one\"))\n",
    "print(\"\\n\")\n",
    "print(\"2. index() is an builtin_function_or_method which Return first index of value. Raises ValueError if the value is not present.\",a.index(\"one\"))\n",
    "print(\"\\n\")\n",
    "print(\"3. Result of concatenation of the tuples: \", a+b)\n",
    "print(\"\\n\")\n",
    "print(\"4. Result of nesting of tuples: \",(a,b))\n",
    "print(\"\\n\")\n",
    "print(\"First tuple, a = \", a)\n",
    "print(\"5. Length of tuple: \",len(a))"
   ]
  },
  {
   "cell_type": "code",
   "execution_count": 35,
   "id": "7b364eb9-dde1-415f-b022-ec135643c993",
   "metadata": {},
   "outputs": [
    {
     "name": "stdout",
     "output_type": "stream",
     "text": [
      "Type of 'a' was  <class 'list'>\n",
      "After converting, type of 'a' become  <class 'tuple'>\n"
     ]
    }
   ],
   "source": [
    "a = [\"one\",1,1.2,1+2j,[3,4,\"five\"]]\n",
    "print(\"Type of 'a' was \",type(a))\n",
    "a = tuple(a)\n",
    "print(\"After converting, type of 'a' become \", type(a))"
   ]
  },
  {
   "cell_type": "markdown",
   "id": "682280c4-8896-4043-9502-077b89e8ae95",
   "metadata": {},
   "source": [
    "# 3. Boolean Data Type\n",
    "- The boolean value can be of two types only i.e. either True or False. "
   ]
  },
  {
   "cell_type": "code",
   "execution_count": 36,
   "id": "a8432c67-bd80-4729-8931-67f27d19d643",
   "metadata": {},
   "outputs": [
    {
     "data": {
      "text/plain": [
       "False"
      ]
     },
     "execution_count": 36,
     "metadata": {},
     "output_type": "execute_result"
    }
   ],
   "source": [
    "10<6"
   ]
  },
  {
   "cell_type": "code",
   "execution_count": 37,
   "id": "216a886d-42cc-4f2f-ab43-3cd68e7ff331",
   "metadata": {},
   "outputs": [
    {
     "data": {
      "text/plain": [
       "True"
      ]
     },
     "execution_count": 37,
     "metadata": {},
     "output_type": "execute_result"
    }
   ],
   "source": [
    "10>6"
   ]
  },
  {
   "cell_type": "code",
   "execution_count": 38,
   "id": "f5ecc97f-a772-448d-96fd-b45e13a32c84",
   "metadata": {},
   "outputs": [
    {
     "data": {
      "text/plain": [
       "bool"
      ]
     },
     "execution_count": 38,
     "metadata": {},
     "output_type": "execute_result"
    }
   ],
   "source": [
    "type(10>6)"
   ]
  },
  {
   "cell_type": "code",
   "execution_count": 41,
   "id": "f76a503d-c646-452a-bb30-92f4830b154e",
   "metadata": {},
   "outputs": [
    {
     "name": "stdout",
     "output_type": "stream",
     "text": [
      "Returns True when the argument x is true, False otherwise. \n",
      "The builtins True and False are the only two instances of the class bool. The class bool is a subclass of the class int, and cannot be subclassed.\n",
      "False\n",
      "False\n",
      "False\n",
      "False\n",
      "False\n",
      "False\n",
      "False\n"
     ]
    }
   ],
   "source": [
    "print(\"Returns True when the argument x is true, False otherwise. \")\n",
    "print(\"The builtins True and False are the only two instances of the class bool. The class bool is a subclass of the class int, and cannot be subclassed.\")\n",
    "print(bool(False))\n",
    "print(bool(None))\n",
    "print(bool(0))\n",
    "print(bool(\"\"))\n",
    "print(bool(()))\n",
    "print(bool([]))\n",
    "print(bool({}))\n"
   ]
  },
  {
   "cell_type": "markdown",
   "id": "42af4b2a-8753-409e-bb67-e8154717c373",
   "metadata": {},
   "source": [
    "# 4. Set\n",
    "- A Set is an unordered collection data type that is iterable, mutable and has unique elements.\n",
    "- set() methods is used to types conversion in Python."
   ]
  },
  {
   "cell_type": "code",
   "execution_count": 76,
   "id": "dc9d5915-ff6b-45af-81e7-062fa0e90e9a",
   "metadata": {},
   "outputs": [
    {
     "name": "stdout",
     "output_type": "stream",
     "text": [
      "'a' belongs to  <class 'set'>\n",
      "'b'is belongs to  <class 'set'>\n",
      "First set, a =  {400, 100, 500, 200, 300}\n",
      "Second set, b =  {400, 50, 100, 20, 200}\n"
     ]
    }
   ],
   "source": [
    "a = {100,200,300,400,500}\n",
    "b = {50,100,20,200,400}\n",
    "print(\"'a' belongs to \",type(a))\n",
    "print(\"'b'is belongs to \",type(b))\n",
    "print(\"First set, a = \", a)\n",
    "print(\"Second set, b = \", b)"
   ]
  },
  {
   "cell_type": "code",
   "execution_count": 77,
   "id": "7259c396-3336-4403-ba6f-29decc278196",
   "metadata": {},
   "outputs": [
    {
     "name": "stdout",
     "output_type": "stream",
     "text": [
      "Set data type is iterable and unordered.\n",
      "\n",
      "Set is unordered because 'set' object is not subscriptable\n",
      "2. Length of the tuple:   5\n"
     ]
    }
   ],
   "source": [
    "print(\"Set data type is iterable and unordered.\\n\")\n",
    "try:\n",
    "    print(\"1. The first element of the set is \", a[0]) \n",
    "except Exception as e:\n",
    "    print('Set is unordered because',e)\n",
    "print(\"2. Length of the tuple:  \", len(a))"
   ]
  },
  {
   "cell_type": "code",
   "execution_count": 79,
   "id": "d2bf1d88-f94f-4bb6-802e-f47fbe2a032c",
   "metadata": {},
   "outputs": [
    {
     "name": "stdout",
     "output_type": "stream",
     "text": [
      "Lets perform set manipulation operations on\n",
      "First set, a =  {400, 100, 500, 200, 300}\n",
      "Second set, b =  {400, 50, 100, 20, 200}\n",
      "\n",
      "\n",
      "Set was:  {400, 100, 500, 200, 300}\n",
      "1. add() add an element to a set. This has no effect if the element is already present.Set becomes:  {400, 100, 500, 200, 600, 300}\n",
      "2. copy() return a shallow copy of a set. {400, 100, 500, 200, 600, 300}\n",
      "3. difference() return the difference of two or more sets as a new set.(i.e. all elements that are in this set but not the others.) {600, 500, 300}\n",
      "4. difference_update remove all elements of another set from this set. None\n",
      "5. symmetric_difference() return the symmetric difference of two sets as a new set. (i.e. all elements that are in exactly one of the sets.) {400, 50, 100, 20, 500, 200, 600, 300}\n",
      "6. symmetric_difference_update() update a set with the symmetric difference of itself and another. None\n"
     ]
    }
   ],
   "source": [
    "a = {100,200,300,400,500}\n",
    "b = {50,100,20,200,400}\n",
    "print(\"Lets perform set manipulation operations on\")\n",
    "print(\"First set, a = \", a)\n",
    "print(\"Second set, b = \", b)\n",
    "print(\"\\n\")\n",
    "\n",
    "print(\"Set was: \",a)\n",
    "a.add(600)\n",
    "print(\"1. add() add an element to a set. This has no effect if the element is already present.Set becomes: \",a)\n",
    "print(\"2. copy() return a shallow copy of a set.\",a.copy())\n",
    "print(\"3. difference() return the difference of two or more sets as a new set.(i.e. all elements that are in this set but not the others.)\",a.difference(b))\n",
    "print(\"4. difference_update remove all elements of another set from this set.\",a.difference_update(b))\n",
    "print(\"5. symmetric_difference() return the symmetric difference of two sets as a new set. (i.e. all elements that are in exactly one of the sets.)\",a.symmetric_difference(b))\n",
    "print(\"6. symmetric_difference_update() update a set with the symmetric difference of itself and another.\",a.symmetric_difference_update(b))"
   ]
  },
  {
   "cell_type": "code",
   "execution_count": 82,
   "id": "022e6aef-e3ef-4361-a566-06feff9470b8",
   "metadata": {},
   "outputs": [
    {
     "name": "stdout",
     "output_type": "stream",
     "text": [
      "Lets perform set manipulation operations on\n",
      "First set, a =  {400, 100, 500, 200, 300}\n",
      "Second set, b =  {400, 50, 100, 20, 200}\n",
      "\n",
      "\n",
      "1. intersection() return the intersection of two sets as a new set.(i.e. all elements that are in both sets.) {400, 100, 200}\n",
      "2. intersection_update() update a set with the intersection of itself and another. None\n",
      "3. isdisjoint() return True if two sets have a null intersection. False\n",
      "4. union() return the union of sets as a new set.(i.e. all elements that are in either set.) {100, 200, 400, 50, 20}\n",
      "5. issubset report whether another set contains this set. True\n",
      "6. issuperset() report whether this set contains another set. False\n",
      "7. update() update a set with the union of itself and others. None\n"
     ]
    }
   ],
   "source": [
    "a = {100,200,300,400,500}\n",
    "b = {50,100,20,200,400}\n",
    "print(\"Lets perform set manipulation operations on\")\n",
    "print(\"First set, a = \", a)\n",
    "print(\"Second set, b = \", b)\n",
    "print(\"\\n\")\n",
    "print(\"1. intersection() return the intersection of two sets as a new set.(i.e. all elements that are in both sets.)\",a.intersection(b))\n",
    "print(\"2. intersection_update() update a set with the intersection of itself and another.\",a.intersection_update(b))\n",
    "print(\"3. isdisjoint() return True if two sets have a null intersection.\",a.isdisjoint(b))\n",
    "print(\"4. union() return the union of sets as a new set.(i.e. all elements that are in either set.)\",a.union(b))\n",
    "print(\"5. issubset report whether another set contains this set.\",a.issubset(b))\n",
    "print(\"6. issuperset() report whether this set contains another set.\",a.issuperset(b))\n",
    "print(\"7. update() update a set with the union of itself and others.\",a.update(b))"
   ]
  },
  {
   "cell_type": "code",
   "execution_count": 83,
   "id": "e0cad7f4-2658-4611-a266-a58fbf3abc0d",
   "metadata": {},
   "outputs": [
    {
     "name": "stdout",
     "output_type": "stream",
     "text": [
      "Lets perform set manipulation operations on\n",
      "First set, a =  {400, 100, 500, 200, 300}\n",
      "Second set, b =  {400, 50, 100, 20, 200}\n",
      "\n",
      "\n",
      "Set was:  {400, 100, 500, 200, 300}\n",
      "1. pop() remove and return an arbitrary set element. Raises KeyError if the set is empty. 400\n",
      "Set become:  {100, 500, 200, 300}\n",
      "\n",
      "\n",
      "Set was:  {100, 500, 200, 300}\n",
      "2. discard() remove an element from a set if it is a member.If the element is not a member, do nothing. None\n",
      "Set become:  {500, 200, 300}\n",
      "\n",
      "\n",
      "Set was:  {500, 200, 300}\n",
      "3. remove() remove an element from a set; it must be a member. If the element is not a member, raise a KeyError. None\n",
      "Set become:  {500, 300}\n",
      "\n",
      "\n",
      "Set was:  {500, 300}\n",
      "4. Remove all elements from this set. None\n",
      "Set become:  set()\n",
      "\n",
      "\n"
     ]
    }
   ],
   "source": [
    "a = {100,200,300,400,500}\n",
    "b = {50,100,20,200,400}\n",
    "print(\"Lets perform set manipulation operations on\")\n",
    "print(\"First set, a = \", a)\n",
    "print(\"Second set, b = \", b)\n",
    "print(\"\\n\")\n",
    "print(\"Set was: \",a)\n",
    "print(\"1. pop() remove and return an arbitrary set element. Raises KeyError if the set is empty. Popped element is: \",a.pop())\n",
    "print(\"Set become: \",a)\n",
    "print(\"\\n\")\n",
    "print(\"Set was: \",a)\n",
    "print(\"2. discard() remove an element from a set if it is a member.If the element is not a member, do nothing.\",a.discard(100))\n",
    "print(\"Set become: \",a)\n",
    "print(\"\\n\")\n",
    "print(\"Set was: \",a)\n",
    "print(\"3. remove() remove an element from a set; it must be a member. If the element is not a member, raise a KeyError.\",a.remove(200))\n",
    "print(\"Set become: \",a)\n",
    "print(\"\\n\")\n",
    "print(\"Set was: \",a)\n",
    "print(\"4. Remove all elements from this set.\",a.clear())\n",
    "print(\"Set become: \",a)\n",
    "print(\"\\n\")"
   ]
  },
  {
   "cell_type": "markdown",
   "id": "6bf1b604-44e2-486d-b853-33ce7e965398",
   "metadata": {},
   "source": [
    "# 5. Dictionary\n",
    "- Dictionaries are used to store data values in key:value pairs.\n",
    "- A dictionary is a collection which is ordered*, changeable and do not allow duplicates.\n",
    "- Dictionaries are written with curly brackets, and have keys and values."
   ]
  },
  {
   "cell_type": "code",
   "execution_count": 84,
   "id": "dafd76e2-eda9-4b5f-aa21-cc27868d1c60",
   "metadata": {},
   "outputs": [
    {
     "name": "stdout",
     "output_type": "stream",
     "text": [
      "'a' belongs to  <class 'dict'>\n",
      "'b'is belongs to  <class 'dict'>\n",
      "First dictionary, a =  {'k1': 'one', 'k2': 1, 'k3': 1.2, 'k4': (1+2j), 'k5': 3, 'k6': 4, 'k7': 'five'}\n",
      "Second dictionary, b =  {'k1': 'b1', 'k2': 'b2', 'k3': 3, 'k4': 'b3', 'k5': 'b3', 'k6': 'b3', 'k7': 'b3'}\n"
     ]
    }
   ],
   "source": [
    "a = {\"k1\":\"one\",\"k2\":1,\"k3\":1.2,\"k4\":1+2j,\"k5\":3,\"k6\":4,\"k7\":\"five\"}\n",
    "b = {\"k1\":\"b1\", \"k2\":\"b2\", \"k3\":3, \"k4\":\"b3\",\"k5\":\"b3\",\"k6\":\"b3\",\"k7\":\"b3\"}\n",
    "print(\"'a' belongs to \",type(a))\n",
    "print(\"'b'is belongs to \",type(b))\n",
    "print(\"First dictionary, a = \", a)\n",
    "print(\"Second dictionary, b = \", b)"
   ]
  },
  {
   "cell_type": "code",
   "execution_count": 111,
   "id": "5e5a2984-531f-41b4-a728-2178a53c7e66",
   "metadata": {},
   "outputs": [
    {
     "name": "stdout",
     "output_type": "stream",
     "text": [
      "First dictionary, a =  {'k1': 'one', 'k2': 1, 'k3': 1.2, 'k4': (1+2j), 'k5': 3, 'k6': 4, 'k7': 'five'}\n",
      "Second dictionary, b =  {'k1': 'b1', 'k2': 'b2', 'k3': 3, 'k4': 'b3', 'k5': 'b3', 'k6': 'b3', 'k7': 'b3'}\n",
      "1. copy() return a shallow copy of dictionary, {'k1': 'one', 'k2': 1, 'k3': 1.2, 'k4': (1+2j), 'k5': 3, 'k6': 4, 'k7': 'five'}\n",
      "2. fromkeys() create a new dictionary with keys from iterable and values set to value.New dictionary:  {1: 'value', 2: 'value', 3: 'value', 4: 'value', 5: 'value'}\n",
      "3. get() return the value for key if key is in the dictionary, else default. The value at key 'k1' is:  one\n",
      "4. items() a set-like object providing a view on dictionary's items. dict_items([('k1', 'one'), ('k2', 1), ('k3', 1.2), ('k4', (1+2j)), ('k5', 3), ('k6', 4), ('k7', 'five')])\n",
      "5. keys() a set-like object providing a view on dictionary's keys. The keys of dictionary 'a' are:  dict_keys(['k1', 'k2', 'k3', 'k4', 'k5', 'k6', 'k7'])\n",
      "6. values() provide a view on values of dictionary. The values in dictionary 'a' are: dict_values(['one', 1, 1.2, (1+2j), 3, 4, 'five'])\n"
     ]
    }
   ],
   "source": [
    "a = {\"k1\":\"one\",\"k2\":1,\"k3\":1.2,\"k4\":1+2j,\"k5\":3,\"k6\":4,\"k7\":\"five\"}\n",
    "b = {\"k1\":\"b1\", \"k2\":\"b2\", \"k3\":3, \"k4\":\"b3\",\"k5\":\"b3\",\"k6\":\"b3\",\"k7\":\"b3\"}\n",
    "print(\"First dictionary, a = \", a)\n",
    "print(\"Second dictionary, b = \", b)\n",
    "print(\"1. copy() return a shallow copy of dictionary,\",a.copy())\n",
    "keys = {1,2,3,4,5}\n",
    "print(\"2. fromkeys() create a new dictionary with keys from iterable and values set to value.New dictionary: \",b.fromkeys(keys, \"value\"))\n",
    "print(\"3. get() return the value for key if key is in the dictionary, else default. The value at key 'k1' is: \",a.get(\"k1\"))\n",
    "print(\"4. items() a set-like object providing a view on dictionary's items.\",a.items())\n",
    "print(\"5. keys() a set-like object providing a view on dictionary's keys. The keys of dictionary 'a' are: \",a.keys())\n",
    "print(\"6. values() provide a view on values of dictionary. The values in dictionary 'a' are:\",a.values())"
   ]
  },
  {
   "cell_type": "code",
   "execution_count": 115,
   "id": "6d97ee9d-5689-4c18-99e1-b68a2f1748a0",
   "metadata": {},
   "outputs": [
    {
     "name": "stdout",
     "output_type": "stream",
     "text": [
      "First dictionary, a =  {'k1': 'one', 'k2': 1, 'k3': 1.2, 'k4': (1+2j), 'k5': 3, 'k6': 4, 'k7': 'five'}\n",
      "Second dictionary, b =  {'k1': 'b1', 'k2': 'b2', 'k3': 3, 'k4': 'b3', 'k5': 'b3', 'k6': 'b3', 'k7': 'b3'}\n",
      "\n",
      "\n",
      "Dictionary was:  {'k1': 'one', 'k2': 1, 'k3': 1.2, 'k4': (1+2j), 'k5': 3, 'k6': 4, 'k7': 'five'}\n",
      "1. pop() remove specified key and return the corresponding value. one\n",
      "Dictionary become:  {'k2': 1, 'k3': 1.2, 'k4': (1+2j), 'k5': 3, 'k6': 4, 'k7': 'five'}\n",
      "\n",
      "\n",
      "Dictionary was:  {'k2': 1, 'k3': 1.2, 'k4': (1+2j), 'k5': 3, 'k6': 4, 'k7': 'five'}\n",
      "2. popitem() remove and return a (key, value) pair as a 2-tuple. Pairs are returned in LIFO (last-in, first-out) order. Raises KeyError if the dict is empty. Popped key value pair is:  ('k7', 'five')\n",
      "Dictionary become:  {'k2': 1, 'k3': 1.2, 'k4': (1+2j), 'k5': 3, 'k6': 4}\n",
      "\n",
      "\n",
      "Dictionary was:  {'k2': 1, 'k3': 1.2, 'k4': (1+2j), 'k5': 3, 'k6': 4}\n",
      "3. clear() remove all items from D. None\n",
      "Dictionary become:  {}\n",
      "\n",
      "\n"
     ]
    }
   ],
   "source": [
    "a = {\"k1\":\"one\",\"k2\":1,\"k3\":1.2,\"k4\":1+2j,\"k5\":3,\"k6\":4,\"k7\":\"five\"}\n",
    "b = {\"k1\":\"b1\", \"k2\":\"b2\", \"k3\":3, \"k4\":\"b3\",\"k5\":\"b3\",\"k6\":\"b3\",\"k7\":\"b3\"}\n",
    "print(\"First dictionary, a = \", a)\n",
    "print(\"Second dictionary, b = \", b)\n",
    "print(\"\\n\")\n",
    "\n",
    "print(\"Dictionary was: \",a)\n",
    "print(\"1. pop() remove specified key and return the corresponding value.\",a.pop('k1'))\n",
    "print(\"Dictionary become: \",a)\n",
    "print(\"\\n\")\n",
    "print(\"Dictionary was: \",a)\n",
    "print(\"2. popitem() remove and return a (key, value) pair as a 2-tuple. Pairs are returned in LIFO (last-in, first-out) order. Raises KeyError if the dict is empty. Popped key value pair is: \",a.popitem())\n",
    "print(\"Dictionary become: \",a)\n",
    "print(\"\\n\")\n",
    "print(\"Dictionary was: \",a)\n",
    "print(\"3. clear() remove all items from D.\",a.clear())\n",
    "print(\"Dictionary become: \",a)\n",
    "print(\"\\n\")"
   ]
  },
  {
   "cell_type": "code",
   "execution_count": null,
   "id": "8ebde7f4-9526-4048-85e5-911e3e0798d6",
   "metadata": {},
   "outputs": [],
   "source": []
  }
 ],
 "metadata": {
  "kernelspec": {
   "display_name": "Python 3 (ipykernel)",
   "language": "python",
   "name": "python3"
  },
  "language_info": {
   "codemirror_mode": {
    "name": "ipython",
    "version": 3
   },
   "file_extension": ".py",
   "mimetype": "text/x-python",
   "name": "python",
   "nbconvert_exporter": "python",
   "pygments_lexer": "ipython3",
   "version": "3.9.12"
  }
 },
 "nbformat": 4,
 "nbformat_minor": 5
}
